{
  "nbformat": 4,
  "nbformat_minor": 0,
  "metadata": {
    "colab": {
      "name": "raster_cutting_colab_GUI_v2.ipynb",
      "provenance": [],
      "collapsed_sections": [],
      "toc_visible": true,
      "include_colab_link": true
    },
    "kernelspec": {
      "name": "python3",
      "display_name": "Python 3"
    }
  },
  "cells": [
    {
      "cell_type": "markdown",
      "metadata": {
        "id": "view-in-github",
        "colab_type": "text"
      },
      "source": [
        "<a href=\"https://colab.research.google.com/github/soiqualang/raster_cutting/blob/master/raster_cutting_colab_GUI_v2.ipynb\" target=\"_parent\"><img src=\"https://colab.research.google.com/assets/colab-badge.svg\" alt=\"Open In Colab\"/></a>"
      ]
    },
    {
      "cell_type": "markdown",
      "metadata": {
        "id": "wHVdZzA7IGxa",
        "colab_type": "text"
      },
      "source": [
        "#raster_cutting\n",
        "\n",
        "> Cut raster for each features in a vector layer\n",
        "\n",
        "https://github.com/soiqualang/raster_cutting\n",
        "\n",
        "> *`soiqualang_chentreu`* | https://dothanhlong.org/"
      ]
    },
    {
      "cell_type": "markdown",
      "metadata": {
        "id": "zqLTWoMSJ5ie",
        "colab_type": "text"
      },
      "source": [
        "## Clone tool to colab"
      ]
    },
    {
      "cell_type": "code",
      "metadata": {
        "id": "74T3pB2hHk12",
        "colab_type": "code",
        "colab": {}
      },
      "source": [
        "!wget https://raw.githubusercontent.com/soiqualang/raster_cutting/master/raster_cutting_colab_gui.py\n",
        "import raster_cutting_colab_gui as t1"
      ],
      "execution_count": 0,
      "outputs": []
    },
    {
      "cell_type": "markdown",
      "metadata": {
        "id": "ngoAI8SbZcSV",
        "colab_type": "text"
      },
      "source": [
        "## Run tool\n",
        "\n",
        "* Upload data (raster và file sqlite)\n",
        "* Chọn chức năng ở `func_selected`\n",
        "* Nhập các thông số đầu vào ở các mục còn lại\n",
        "* Nhấn `Ctrl` + `Enter` hoặc `biểu tượng run` để chạy tool"
      ]
    },
    {
      "cell_type": "code",
      "metadata": {
        "colab_type": "code",
        "id": "mgk0i80XOibj",
        "cellView": "form",
        "colab": {}
      },
      "source": [
        "func_selected = \"Delete output folder\" #@param [\"Cut raster\", \"Make output folder\", \"Delete output folder\", \"ZIP output folder\"]\n",
        "rasterFile = 'input/DBSCL_20180611_NSS.tif'  #@param {type: \"string\"}\n",
        "fout = 'output/'  #@param {type: \"string\"}\n",
        "dbName = 'dbscl.sqlite'  #@param {type: \"string\"}\n",
        "tblName = 'dbscl'  #@param {type: \"string\"}\n",
        "dkCol = 'ten_eng'  #@param {type: \"string\"}\n",
        "\n",
        "finalchar=fout[len(fout)-1]\n",
        "if(finalchar!='/'):\n",
        "    fout+='/'\n",
        "\n",
        "if(func_selected=='Cut raster'):\n",
        "    t1.raster_cutting()\n",
        "elif(func_selected=='Make output folder'):\n",
        "    t1.make_folder(fout)\n",
        "elif(func_selected=='Delete output folder'):\n",
        "    t1.delete_folder(fout)\n",
        "elif(func_selected=='ZIP output folder'):\n",
        "    t1.zip_folder(fout)\n",
        "else:\n",
        "    t1.raster_cutting()\n",
        "\n"
      ],
      "execution_count": 0,
      "outputs": []
    },
    {
      "cell_type": "code",
      "metadata": {
        "id": "R_WDex0sO156",
        "colab_type": "code",
        "colab": {}
      },
      "source": [
        ""
      ],
      "execution_count": 0,
      "outputs": []
    }
  ]
}